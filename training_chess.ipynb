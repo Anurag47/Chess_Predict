{
 "cells": [
  {
   "cell_type": "code",
   "execution_count": 1,
   "metadata": {},
   "outputs": [],
   "source": [
    "import pandas as pd\n",
    "import numpy as np\n",
    "from sklearn.ensemble import GradientBoostingClassifier,AdaBoostClassifier,RandomForestClassifier\n",
    "from sklearn.model_selection import train_test_split\n",
    "import category_encoders as ce\n",
    "from sklearn.model_selection import GridSearchCV,RandomizedSearchCV\n",
    "from sklearn.metrics import roc_auc_score"
   ]
  },
  {
   "cell_type": "code",
   "execution_count": 58,
   "metadata": {},
   "outputs": [
    {
     "data": {
      "text/html": [
       "<div>\n",
       "<style scoped>\n",
       "    .dataframe tbody tr th:only-of-type {\n",
       "        vertical-align: middle;\n",
       "    }\n",
       "\n",
       "    .dataframe tbody tr th {\n",
       "        vertical-align: top;\n",
       "    }\n",
       "\n",
       "    .dataframe thead th {\n",
       "        text-align: right;\n",
       "    }\n",
       "</style>\n",
       "<table border=\"1\" class=\"dataframe\">\n",
       "  <thead>\n",
       "    <tr style=\"text-align: right;\">\n",
       "      <th></th>\n",
       "      <th>Unnamed: 0</th>\n",
       "      <th>winner</th>\n",
       "      <th>increment_code</th>\n",
       "      <th>white_rating</th>\n",
       "      <th>black_rating</th>\n",
       "      <th>opening_name</th>\n",
       "    </tr>\n",
       "  </thead>\n",
       "  <tbody>\n",
       "    <tr>\n",
       "      <td>0</td>\n",
       "      <td>3</td>\n",
       "      <td>1</td>\n",
       "      <td>20+0</td>\n",
       "      <td>1439</td>\n",
       "      <td>1454</td>\n",
       "      <td>Queen's Pawn Game</td>\n",
       "    </tr>\n",
       "    <tr>\n",
       "      <td>1</td>\n",
       "      <td>5</td>\n",
       "      <td>0</td>\n",
       "      <td>10+0</td>\n",
       "      <td>1250</td>\n",
       "      <td>1002</td>\n",
       "      <td>Sicilian Defense</td>\n",
       "    </tr>\n",
       "    <tr>\n",
       "      <td>2</td>\n",
       "      <td>8</td>\n",
       "      <td>-1</td>\n",
       "      <td>15+0</td>\n",
       "      <td>1439</td>\n",
       "      <td>1392</td>\n",
       "      <td>Italian Game</td>\n",
       "    </tr>\n",
       "    <tr>\n",
       "      <td>3</td>\n",
       "      <td>9</td>\n",
       "      <td>1</td>\n",
       "      <td>10+0</td>\n",
       "      <td>1381</td>\n",
       "      <td>1209</td>\n",
       "      <td>Scandinavian Defense</td>\n",
       "    </tr>\n",
       "    <tr>\n",
       "      <td>4</td>\n",
       "      <td>13</td>\n",
       "      <td>-1</td>\n",
       "      <td>8+0</td>\n",
       "      <td>1381</td>\n",
       "      <td>1607</td>\n",
       "      <td>French Defense</td>\n",
       "    </tr>\n",
       "  </tbody>\n",
       "</table>\n",
       "</div>"
      ],
      "text/plain": [
       "   Unnamed: 0  winner increment_code  white_rating  black_rating  \\\n",
       "0           3       1           20+0          1439          1454   \n",
       "1           5       0           10+0          1250          1002   \n",
       "2           8      -1           15+0          1439          1392   \n",
       "3           9       1           10+0          1381          1209   \n",
       "4          13      -1            8+0          1381          1607   \n",
       "\n",
       "           opening_name  \n",
       "0     Queen's Pawn Game  \n",
       "1      Sicilian Defense  \n",
       "2          Italian Game  \n",
       "3  Scandinavian Defense  \n",
       "4        French Defense  "
      ]
     },
     "execution_count": 58,
     "metadata": {},
     "output_type": "execute_result"
    }
   ],
   "source": [
    "df1=pd.read_csv('clean_game.csv')\n",
    "df1.head(5)"
   ]
  },
  {
   "cell_type": "code",
   "execution_count": 59,
   "metadata": {},
   "outputs": [
    {
     "data": {
      "text/plain": [
       "Index(['Unnamed: 0', 'winner', 'increment_code', 'white_rating',\n",
       "       'black_rating', 'opening_name'],\n",
       "      dtype='object')"
      ]
     },
     "execution_count": 59,
     "metadata": {},
     "output_type": "execute_result"
    }
   ],
   "source": [
    "df1.columns"
   ]
  },
  {
   "cell_type": "code",
   "execution_count": 60,
   "metadata": {},
   "outputs": [],
   "source": [
    "df1.drop('Unnamed: 0',axis=1,inplace=True)"
   ]
  },
  {
   "cell_type": "code",
   "execution_count": 61,
   "metadata": {},
   "outputs": [
    {
     "data": {
      "text/html": [
       "<div>\n",
       "<style scoped>\n",
       "    .dataframe tbody tr th:only-of-type {\n",
       "        vertical-align: middle;\n",
       "    }\n",
       "\n",
       "    .dataframe tbody tr th {\n",
       "        vertical-align: top;\n",
       "    }\n",
       "\n",
       "    .dataframe thead th {\n",
       "        text-align: right;\n",
       "    }\n",
       "</style>\n",
       "<table border=\"1\" class=\"dataframe\">\n",
       "  <thead>\n",
       "    <tr style=\"text-align: right;\">\n",
       "      <th></th>\n",
       "      <th>winner</th>\n",
       "      <th>increment_code</th>\n",
       "      <th>white_rating</th>\n",
       "      <th>black_rating</th>\n",
       "      <th>opening_name</th>\n",
       "    </tr>\n",
       "  </thead>\n",
       "  <tbody>\n",
       "    <tr>\n",
       "      <td>0</td>\n",
       "      <td>1</td>\n",
       "      <td>20+0</td>\n",
       "      <td>1439</td>\n",
       "      <td>1454</td>\n",
       "      <td>Queen's Pawn Game</td>\n",
       "    </tr>\n",
       "    <tr>\n",
       "      <td>1</td>\n",
       "      <td>0</td>\n",
       "      <td>10+0</td>\n",
       "      <td>1250</td>\n",
       "      <td>1002</td>\n",
       "      <td>Sicilian Defense</td>\n",
       "    </tr>\n",
       "    <tr>\n",
       "      <td>2</td>\n",
       "      <td>-1</td>\n",
       "      <td>15+0</td>\n",
       "      <td>1439</td>\n",
       "      <td>1392</td>\n",
       "      <td>Italian Game</td>\n",
       "    </tr>\n",
       "    <tr>\n",
       "      <td>3</td>\n",
       "      <td>1</td>\n",
       "      <td>10+0</td>\n",
       "      <td>1381</td>\n",
       "      <td>1209</td>\n",
       "      <td>Scandinavian Defense</td>\n",
       "    </tr>\n",
       "    <tr>\n",
       "      <td>4</td>\n",
       "      <td>-1</td>\n",
       "      <td>8+0</td>\n",
       "      <td>1381</td>\n",
       "      <td>1607</td>\n",
       "      <td>French Defense</td>\n",
       "    </tr>\n",
       "  </tbody>\n",
       "</table>\n",
       "</div>"
      ],
      "text/plain": [
       "   winner increment_code  white_rating  black_rating          opening_name\n",
       "0       1           20+0          1439          1454     Queen's Pawn Game\n",
       "1       0           10+0          1250          1002      Sicilian Defense\n",
       "2      -1           15+0          1439          1392          Italian Game\n",
       "3       1           10+0          1381          1209  Scandinavian Defense\n",
       "4      -1            8+0          1381          1607        French Defense"
      ]
     },
     "execution_count": 61,
     "metadata": {},
     "output_type": "execute_result"
    }
   ],
   "source": [
    "df1.head(5)"
   ]
  },
  {
   "cell_type": "code",
   "execution_count": 62,
   "metadata": {},
   "outputs": [],
   "source": [
    "df2_x=df1.drop(['winner'],axis=1)\n",
    "df2_y=df1['winner']"
   ]
  },
  {
   "cell_type": "code",
   "execution_count": 63,
   "metadata": {},
   "outputs": [
    {
     "data": {
      "text/html": [
       "<div>\n",
       "<style scoped>\n",
       "    .dataframe tbody tr th:only-of-type {\n",
       "        vertical-align: middle;\n",
       "    }\n",
       "\n",
       "    .dataframe tbody tr th {\n",
       "        vertical-align: top;\n",
       "    }\n",
       "\n",
       "    .dataframe thead th {\n",
       "        text-align: right;\n",
       "    }\n",
       "</style>\n",
       "<table border=\"1\" class=\"dataframe\">\n",
       "  <thead>\n",
       "    <tr style=\"text-align: right;\">\n",
       "      <th></th>\n",
       "      <th>increment_code</th>\n",
       "      <th>white_rating</th>\n",
       "      <th>black_rating</th>\n",
       "      <th>opening_name</th>\n",
       "    </tr>\n",
       "  </thead>\n",
       "  <tbody>\n",
       "    <tr>\n",
       "      <td>0</td>\n",
       "      <td>20+0</td>\n",
       "      <td>1439</td>\n",
       "      <td>1454</td>\n",
       "      <td>Queen's Pawn Game</td>\n",
       "    </tr>\n",
       "    <tr>\n",
       "      <td>1</td>\n",
       "      <td>10+0</td>\n",
       "      <td>1250</td>\n",
       "      <td>1002</td>\n",
       "      <td>Sicilian Defense</td>\n",
       "    </tr>\n",
       "    <tr>\n",
       "      <td>2</td>\n",
       "      <td>15+0</td>\n",
       "      <td>1439</td>\n",
       "      <td>1392</td>\n",
       "      <td>Italian Game</td>\n",
       "    </tr>\n",
       "    <tr>\n",
       "      <td>3</td>\n",
       "      <td>10+0</td>\n",
       "      <td>1381</td>\n",
       "      <td>1209</td>\n",
       "      <td>Scandinavian Defense</td>\n",
       "    </tr>\n",
       "    <tr>\n",
       "      <td>4</td>\n",
       "      <td>8+0</td>\n",
       "      <td>1381</td>\n",
       "      <td>1607</td>\n",
       "      <td>French Defense</td>\n",
       "    </tr>\n",
       "    <tr>\n",
       "      <td>...</td>\n",
       "      <td>...</td>\n",
       "      <td>...</td>\n",
       "      <td>...</td>\n",
       "      <td>...</td>\n",
       "    </tr>\n",
       "    <tr>\n",
       "      <td>10034</td>\n",
       "      <td>10+0</td>\n",
       "      <td>1328</td>\n",
       "      <td>1252</td>\n",
       "      <td>French Defense</td>\n",
       "    </tr>\n",
       "    <tr>\n",
       "      <td>10035</td>\n",
       "      <td>10+0</td>\n",
       "      <td>1243</td>\n",
       "      <td>1142</td>\n",
       "      <td>English Opening</td>\n",
       "    </tr>\n",
       "    <tr>\n",
       "      <td>10036</td>\n",
       "      <td>10+10</td>\n",
       "      <td>1237</td>\n",
       "      <td>1231</td>\n",
       "      <td>French Defense</td>\n",
       "    </tr>\n",
       "    <tr>\n",
       "      <td>10037</td>\n",
       "      <td>10+0</td>\n",
       "      <td>1219</td>\n",
       "      <td>1286</td>\n",
       "      <td>Queen's Pawn Game</td>\n",
       "    </tr>\n",
       "    <tr>\n",
       "      <td>10038</td>\n",
       "      <td>10+0</td>\n",
       "      <td>1235</td>\n",
       "      <td>1339</td>\n",
       "      <td>Queen's Pawn Game</td>\n",
       "    </tr>\n",
       "  </tbody>\n",
       "</table>\n",
       "<p>10039 rows × 4 columns</p>\n",
       "</div>"
      ],
      "text/plain": [
       "      increment_code  white_rating  black_rating          opening_name\n",
       "0               20+0          1439          1454     Queen's Pawn Game\n",
       "1               10+0          1250          1002      Sicilian Defense\n",
       "2               15+0          1439          1392          Italian Game\n",
       "3               10+0          1381          1209  Scandinavian Defense\n",
       "4                8+0          1381          1607        French Defense\n",
       "...              ...           ...           ...                   ...\n",
       "10034           10+0          1328          1252        French Defense\n",
       "10035           10+0          1243          1142       English Opening\n",
       "10036          10+10          1237          1231        French Defense\n",
       "10037           10+0          1219          1286     Queen's Pawn Game\n",
       "10038           10+0          1235          1339     Queen's Pawn Game\n",
       "\n",
       "[10039 rows x 4 columns]"
      ]
     },
     "execution_count": 63,
     "metadata": {},
     "output_type": "execute_result"
    }
   ],
   "source": [
    "df2_x"
   ]
  },
  {
   "cell_type": "code",
   "execution_count": 64,
   "metadata": {},
   "outputs": [],
   "source": [
    "encode=['increment_code','opening_name']\n",
    "c_enc=ce.CountEncoder()"
   ]
  },
  {
   "cell_type": "code",
   "execution_count": 65,
   "metadata": {},
   "outputs": [
    {
     "data": {
      "text/html": [
       "<div>\n",
       "<style scoped>\n",
       "    .dataframe tbody tr th:only-of-type {\n",
       "        vertical-align: middle;\n",
       "    }\n",
       "\n",
       "    .dataframe tbody tr th {\n",
       "        vertical-align: top;\n",
       "    }\n",
       "\n",
       "    .dataframe thead th {\n",
       "        text-align: right;\n",
       "    }\n",
       "</style>\n",
       "<table border=\"1\" class=\"dataframe\">\n",
       "  <thead>\n",
       "    <tr style=\"text-align: right;\">\n",
       "      <th></th>\n",
       "      <th>increment_code</th>\n",
       "      <th>opening_name</th>\n",
       "    </tr>\n",
       "  </thead>\n",
       "  <tbody>\n",
       "    <tr>\n",
       "      <td>0</td>\n",
       "      <td>313</td>\n",
       "      <td>905</td>\n",
       "    </tr>\n",
       "    <tr>\n",
       "      <td>1</td>\n",
       "      <td>5425</td>\n",
       "      <td>1970</td>\n",
       "    </tr>\n",
       "    <tr>\n",
       "      <td>2</td>\n",
       "      <td>918</td>\n",
       "      <td>713</td>\n",
       "    </tr>\n",
       "    <tr>\n",
       "      <td>3</td>\n",
       "      <td>5425</td>\n",
       "      <td>493</td>\n",
       "    </tr>\n",
       "    <tr>\n",
       "      <td>4</td>\n",
       "      <td>391</td>\n",
       "      <td>997</td>\n",
       "    </tr>\n",
       "    <tr>\n",
       "      <td>...</td>\n",
       "      <td>...</td>\n",
       "      <td>...</td>\n",
       "    </tr>\n",
       "    <tr>\n",
       "      <td>10034</td>\n",
       "      <td>5425</td>\n",
       "      <td>997</td>\n",
       "    </tr>\n",
       "    <tr>\n",
       "      <td>10035</td>\n",
       "      <td>5425</td>\n",
       "      <td>511</td>\n",
       "    </tr>\n",
       "    <tr>\n",
       "      <td>10036</td>\n",
       "      <td>229</td>\n",
       "      <td>997</td>\n",
       "    </tr>\n",
       "    <tr>\n",
       "      <td>10037</td>\n",
       "      <td>5425</td>\n",
       "      <td>905</td>\n",
       "    </tr>\n",
       "    <tr>\n",
       "      <td>10038</td>\n",
       "      <td>5425</td>\n",
       "      <td>905</td>\n",
       "    </tr>\n",
       "  </tbody>\n",
       "</table>\n",
       "<p>10039 rows × 2 columns</p>\n",
       "</div>"
      ],
      "text/plain": [
       "       increment_code  opening_name\n",
       "0                 313           905\n",
       "1                5425          1970\n",
       "2                 918           713\n",
       "3                5425           493\n",
       "4                 391           997\n",
       "...               ...           ...\n",
       "10034            5425           997\n",
       "10035            5425           511\n",
       "10036             229           997\n",
       "10037            5425           905\n",
       "10038            5425           905\n",
       "\n",
       "[10039 rows x 2 columns]"
      ]
     },
     "execution_count": 65,
     "metadata": {},
     "output_type": "execute_result"
    }
   ],
   "source": [
    "count_enc=c_enc.fit_transform(df2_x[encode])\n",
    "count_enc"
   ]
  },
  {
   "cell_type": "code",
   "execution_count": 66,
   "metadata": {},
   "outputs": [
    {
     "data": {
      "text/html": [
       "<div>\n",
       "<style scoped>\n",
       "    .dataframe tbody tr th:only-of-type {\n",
       "        vertical-align: middle;\n",
       "    }\n",
       "\n",
       "    .dataframe tbody tr th {\n",
       "        vertical-align: top;\n",
       "    }\n",
       "\n",
       "    .dataframe thead th {\n",
       "        text-align: right;\n",
       "    }\n",
       "</style>\n",
       "<table border=\"1\" class=\"dataframe\">\n",
       "  <thead>\n",
       "    <tr style=\"text-align: right;\">\n",
       "      <th></th>\n",
       "      <th>increment_code</th>\n",
       "      <th>white_rating</th>\n",
       "      <th>black_rating</th>\n",
       "      <th>opening_name</th>\n",
       "      <th>increment_code_count</th>\n",
       "      <th>opening_name_count</th>\n",
       "    </tr>\n",
       "  </thead>\n",
       "  <tbody>\n",
       "    <tr>\n",
       "      <td>0</td>\n",
       "      <td>20+0</td>\n",
       "      <td>1439</td>\n",
       "      <td>1454</td>\n",
       "      <td>Queen's Pawn Game</td>\n",
       "      <td>313</td>\n",
       "      <td>905</td>\n",
       "    </tr>\n",
       "    <tr>\n",
       "      <td>1</td>\n",
       "      <td>10+0</td>\n",
       "      <td>1250</td>\n",
       "      <td>1002</td>\n",
       "      <td>Sicilian Defense</td>\n",
       "      <td>5425</td>\n",
       "      <td>1970</td>\n",
       "    </tr>\n",
       "    <tr>\n",
       "      <td>2</td>\n",
       "      <td>15+0</td>\n",
       "      <td>1439</td>\n",
       "      <td>1392</td>\n",
       "      <td>Italian Game</td>\n",
       "      <td>918</td>\n",
       "      <td>713</td>\n",
       "    </tr>\n",
       "    <tr>\n",
       "      <td>3</td>\n",
       "      <td>10+0</td>\n",
       "      <td>1381</td>\n",
       "      <td>1209</td>\n",
       "      <td>Scandinavian Defense</td>\n",
       "      <td>5425</td>\n",
       "      <td>493</td>\n",
       "    </tr>\n",
       "    <tr>\n",
       "      <td>4</td>\n",
       "      <td>8+0</td>\n",
       "      <td>1381</td>\n",
       "      <td>1607</td>\n",
       "      <td>French Defense</td>\n",
       "      <td>391</td>\n",
       "      <td>997</td>\n",
       "    </tr>\n",
       "    <tr>\n",
       "      <td>...</td>\n",
       "      <td>...</td>\n",
       "      <td>...</td>\n",
       "      <td>...</td>\n",
       "      <td>...</td>\n",
       "      <td>...</td>\n",
       "      <td>...</td>\n",
       "    </tr>\n",
       "    <tr>\n",
       "      <td>10034</td>\n",
       "      <td>10+0</td>\n",
       "      <td>1328</td>\n",
       "      <td>1252</td>\n",
       "      <td>French Defense</td>\n",
       "      <td>5425</td>\n",
       "      <td>997</td>\n",
       "    </tr>\n",
       "    <tr>\n",
       "      <td>10035</td>\n",
       "      <td>10+0</td>\n",
       "      <td>1243</td>\n",
       "      <td>1142</td>\n",
       "      <td>English Opening</td>\n",
       "      <td>5425</td>\n",
       "      <td>511</td>\n",
       "    </tr>\n",
       "    <tr>\n",
       "      <td>10036</td>\n",
       "      <td>10+10</td>\n",
       "      <td>1237</td>\n",
       "      <td>1231</td>\n",
       "      <td>French Defense</td>\n",
       "      <td>229</td>\n",
       "      <td>997</td>\n",
       "    </tr>\n",
       "    <tr>\n",
       "      <td>10037</td>\n",
       "      <td>10+0</td>\n",
       "      <td>1219</td>\n",
       "      <td>1286</td>\n",
       "      <td>Queen's Pawn Game</td>\n",
       "      <td>5425</td>\n",
       "      <td>905</td>\n",
       "    </tr>\n",
       "    <tr>\n",
       "      <td>10038</td>\n",
       "      <td>10+0</td>\n",
       "      <td>1235</td>\n",
       "      <td>1339</td>\n",
       "      <td>Queen's Pawn Game</td>\n",
       "      <td>5425</td>\n",
       "      <td>905</td>\n",
       "    </tr>\n",
       "  </tbody>\n",
       "</table>\n",
       "<p>10039 rows × 6 columns</p>\n",
       "</div>"
      ],
      "text/plain": [
       "      increment_code  white_rating  black_rating          opening_name  \\\n",
       "0               20+0          1439          1454     Queen's Pawn Game   \n",
       "1               10+0          1250          1002      Sicilian Defense   \n",
       "2               15+0          1439          1392          Italian Game   \n",
       "3               10+0          1381          1209  Scandinavian Defense   \n",
       "4                8+0          1381          1607        French Defense   \n",
       "...              ...           ...           ...                   ...   \n",
       "10034           10+0          1328          1252        French Defense   \n",
       "10035           10+0          1243          1142       English Opening   \n",
       "10036          10+10          1237          1231        French Defense   \n",
       "10037           10+0          1219          1286     Queen's Pawn Game   \n",
       "10038           10+0          1235          1339     Queen's Pawn Game   \n",
       "\n",
       "       increment_code_count  opening_name_count  \n",
       "0                       313                 905  \n",
       "1                      5425                1970  \n",
       "2                       918                 713  \n",
       "3                      5425                 493  \n",
       "4                       391                 997  \n",
       "...                     ...                 ...  \n",
       "10034                  5425                 997  \n",
       "10035                  5425                 511  \n",
       "10036                   229                 997  \n",
       "10037                  5425                 905  \n",
       "10038                  5425                 905  \n",
       "\n",
       "[10039 rows x 6 columns]"
      ]
     },
     "execution_count": 66,
     "metadata": {},
     "output_type": "execute_result"
    }
   ],
   "source": [
    "df2_x=df2_x.join(count_enc.add_suffix(\"_count\"))\n",
    "df2_x"
   ]
  },
  {
   "cell_type": "code",
   "execution_count": 67,
   "metadata": {},
   "outputs": [
    {
     "data": {
      "text/html": [
       "<div>\n",
       "<style scoped>\n",
       "    .dataframe tbody tr th:only-of-type {\n",
       "        vertical-align: middle;\n",
       "    }\n",
       "\n",
       "    .dataframe tbody tr th {\n",
       "        vertical-align: top;\n",
       "    }\n",
       "\n",
       "    .dataframe thead th {\n",
       "        text-align: right;\n",
       "    }\n",
       "</style>\n",
       "<table border=\"1\" class=\"dataframe\">\n",
       "  <thead>\n",
       "    <tr style=\"text-align: right;\">\n",
       "      <th></th>\n",
       "      <th>white_rating</th>\n",
       "      <th>black_rating</th>\n",
       "      <th>increment_code_count</th>\n",
       "      <th>opening_name_count</th>\n",
       "    </tr>\n",
       "  </thead>\n",
       "  <tbody>\n",
       "    <tr>\n",
       "      <td>0</td>\n",
       "      <td>1439</td>\n",
       "      <td>1454</td>\n",
       "      <td>313</td>\n",
       "      <td>905</td>\n",
       "    </tr>\n",
       "    <tr>\n",
       "      <td>1</td>\n",
       "      <td>1250</td>\n",
       "      <td>1002</td>\n",
       "      <td>5425</td>\n",
       "      <td>1970</td>\n",
       "    </tr>\n",
       "    <tr>\n",
       "      <td>2</td>\n",
       "      <td>1439</td>\n",
       "      <td>1392</td>\n",
       "      <td>918</td>\n",
       "      <td>713</td>\n",
       "    </tr>\n",
       "    <tr>\n",
       "      <td>3</td>\n",
       "      <td>1381</td>\n",
       "      <td>1209</td>\n",
       "      <td>5425</td>\n",
       "      <td>493</td>\n",
       "    </tr>\n",
       "    <tr>\n",
       "      <td>4</td>\n",
       "      <td>1381</td>\n",
       "      <td>1607</td>\n",
       "      <td>391</td>\n",
       "      <td>997</td>\n",
       "    </tr>\n",
       "    <tr>\n",
       "      <td>...</td>\n",
       "      <td>...</td>\n",
       "      <td>...</td>\n",
       "      <td>...</td>\n",
       "      <td>...</td>\n",
       "    </tr>\n",
       "    <tr>\n",
       "      <td>10034</td>\n",
       "      <td>1328</td>\n",
       "      <td>1252</td>\n",
       "      <td>5425</td>\n",
       "      <td>997</td>\n",
       "    </tr>\n",
       "    <tr>\n",
       "      <td>10035</td>\n",
       "      <td>1243</td>\n",
       "      <td>1142</td>\n",
       "      <td>5425</td>\n",
       "      <td>511</td>\n",
       "    </tr>\n",
       "    <tr>\n",
       "      <td>10036</td>\n",
       "      <td>1237</td>\n",
       "      <td>1231</td>\n",
       "      <td>229</td>\n",
       "      <td>997</td>\n",
       "    </tr>\n",
       "    <tr>\n",
       "      <td>10037</td>\n",
       "      <td>1219</td>\n",
       "      <td>1286</td>\n",
       "      <td>5425</td>\n",
       "      <td>905</td>\n",
       "    </tr>\n",
       "    <tr>\n",
       "      <td>10038</td>\n",
       "      <td>1235</td>\n",
       "      <td>1339</td>\n",
       "      <td>5425</td>\n",
       "      <td>905</td>\n",
       "    </tr>\n",
       "  </tbody>\n",
       "</table>\n",
       "<p>10039 rows × 4 columns</p>\n",
       "</div>"
      ],
      "text/plain": [
       "       white_rating  black_rating  increment_code_count  opening_name_count\n",
       "0              1439          1454                   313                 905\n",
       "1              1250          1002                  5425                1970\n",
       "2              1439          1392                   918                 713\n",
       "3              1381          1209                  5425                 493\n",
       "4              1381          1607                   391                 997\n",
       "...             ...           ...                   ...                 ...\n",
       "10034          1328          1252                  5425                 997\n",
       "10035          1243          1142                  5425                 511\n",
       "10036          1237          1231                   229                 997\n",
       "10037          1219          1286                  5425                 905\n",
       "10038          1235          1339                  5425                 905\n",
       "\n",
       "[10039 rows x 4 columns]"
      ]
     },
     "execution_count": 67,
     "metadata": {},
     "output_type": "execute_result"
    }
   ],
   "source": [
    "df_t=df2_x.drop(['opening_name','increment_code'],axis=1)\n",
    "df_t"
   ]
  },
  {
   "cell_type": "code",
   "execution_count": 68,
   "metadata": {},
   "outputs": [
    {
     "data": {
      "text/plain": [
       "0.6085657370517928"
      ]
     },
     "execution_count": 68,
     "metadata": {},
     "output_type": "execute_result"
    }
   ],
   "source": [
    "train2_x,test2_x,train2_y,test2_y=train_test_split(df_t,df2_y,test_size=0.3,random_state=42)\n",
    "clf_2=GradientBoostingClassifier().fit(train2_x,train2_y)\n",
    "clf_2.score(test2_x,test2_y)"
   ]
  },
  {
   "cell_type": "code",
   "execution_count": 69,
   "metadata": {},
   "outputs": [
    {
     "name": "stdout",
     "output_type": "stream",
     "text": [
      "Fitting 5 folds for each of 10 candidates, totalling 50 fits\n"
     ]
    },
    {
     "name": "stderr",
     "output_type": "stream",
     "text": [
      "[Parallel(n_jobs=-1)]: Using backend LokyBackend with 4 concurrent workers.\n",
      "[Parallel(n_jobs=-1)]: Done  24 tasks      | elapsed:   26.7s\n",
      "[Parallel(n_jobs=-1)]: Done  50 out of  50 | elapsed:   38.0s finished\n"
     ]
    },
    {
     "data": {
      "text/plain": [
       "RandomizedSearchCV(cv=5, error_score='raise-deprecating',\n",
       "                   estimator=GradientBoostingClassifier(criterion='friedman_mse',\n",
       "                                                        init=None,\n",
       "                                                        learning_rate=0.1,\n",
       "                                                        loss='deviance',\n",
       "                                                        max_depth=3,\n",
       "                                                        max_features=None,\n",
       "                                                        max_leaf_nodes=None,\n",
       "                                                        min_impurity_decrease=0.0,\n",
       "                                                        min_impurity_split=None,\n",
       "                                                        min_samples_leaf=1,\n",
       "                                                        min_samples_split=2,\n",
       "                                                        min_weight_fraction_leaf=0.0,\n",
       "                                                        n_estimators=100,\n",
       "                                                        n_i...\n",
       "                                                        random_state=None,\n",
       "                                                        subsample=1.0,\n",
       "                                                        tol=0.0001,\n",
       "                                                        validation_fraction=0.1,\n",
       "                                                        verbose=0,\n",
       "                                                        warm_start=False),\n",
       "                   iid='warn', n_iter=10, n_jobs=-1,\n",
       "                   param_distributions={'learning_rate': [0.01, 0.1, 1],\n",
       "                                        'max_depth': [1, 3, 5, 7],\n",
       "                                        'max_features': ['sqrt', 'log2'],\n",
       "                                        'n_estimators': [5, 50, 100]},\n",
       "                   pre_dispatch='2*n_jobs', random_state=None, refit=True,\n",
       "                   return_train_score=False, scoring=None, verbose=3)"
      ]
     },
     "execution_count": 69,
     "metadata": {},
     "output_type": "execute_result"
    }
   ],
   "source": [
    "param={'n_estimators':[5,50,100],\n",
    "      'max_depth':[1,3,5,7],\n",
    "      'learning_rate':[0.01,0.1,1],\n",
    "      'max_features':['sqrt','log2']}\n",
    "\n",
    "r_search = RandomizedSearchCV(estimator=GradientBoostingClassifier(),param_distributions=param,cv=5,n_jobs =-1,verbose = 3)\n",
    "r_search.fit(train2_x,train2_y)"
   ]
  },
  {
   "cell_type": "code",
   "execution_count": 70,
   "metadata": {},
   "outputs": [
    {
     "data": {
      "text/plain": [
       "{'n_estimators': 100,\n",
       " 'max_features': 'log2',\n",
       " 'max_depth': 1,\n",
       " 'learning_rate': 0.1}"
      ]
     },
     "execution_count": 70,
     "metadata": {},
     "output_type": "execute_result"
    }
   ],
   "source": [
    "r_search.best_params_"
   ]
  },
  {
   "cell_type": "code",
   "execution_count": 71,
   "metadata": {},
   "outputs": [
    {
     "data": {
      "text/plain": [
       "0.5982735723771581"
      ]
     },
     "execution_count": 71,
     "metadata": {},
     "output_type": "execute_result"
    }
   ],
   "source": [
    "clf_2=GradientBoostingClassifier(n_estimators= 100,\n",
    " max_features= 'log2',\n",
    " max_depth= 1,\n",
    " learning_rate= 0.1).fit(train2_x,train2_y)\n",
    "clf_2.score(test2_x,test2_y)"
   ]
  },
  {
   "cell_type": "code",
   "execution_count": 72,
   "metadata": {},
   "outputs": [
    {
     "name": "stderr",
     "output_type": "stream",
     "text": [
      "C:\\Users\\Anurag\\Anaconda3\\lib\\site-packages\\sklearn\\ensemble\\forest.py:245: FutureWarning: The default value of n_estimators will change from 10 in version 0.20 to 100 in 0.22.\n",
      "  \"10 in version 0.20 to 100 in 0.22.\", FutureWarning)\n"
     ]
    },
    {
     "data": {
      "text/plain": [
       "0.5899734395750332"
      ]
     },
     "execution_count": 72,
     "metadata": {},
     "output_type": "execute_result"
    }
   ],
   "source": [
    "rf = RandomForestClassifier()\n",
    "rf.fit(train2_x,train2_y)\n",
    "rf.score(test2_x,test2_y)"
   ]
  },
  {
   "cell_type": "code",
   "execution_count": 73,
   "metadata": {},
   "outputs": [
    {
     "name": "stdout",
     "output_type": "stream",
     "text": [
      "Fitting 5 folds for each of 10 candidates, totalling 50 fits\n"
     ]
    },
    {
     "name": "stderr",
     "output_type": "stream",
     "text": [
      "[Parallel(n_jobs=-1)]: Using backend LokyBackend with 4 concurrent workers.\n",
      "[Parallel(n_jobs=-1)]: Done  24 tasks      | elapsed:   12.0s\n",
      "[Parallel(n_jobs=-1)]: Done  50 out of  50 | elapsed:   19.9s finished\n"
     ]
    },
    {
     "data": {
      "text/plain": [
       "RandomizedSearchCV(cv=5, error_score='raise-deprecating',\n",
       "                   estimator=RandomForestClassifier(bootstrap=True,\n",
       "                                                    class_weight=None,\n",
       "                                                    criterion='gini',\n",
       "                                                    max_depth=None,\n",
       "                                                    max_features='auto',\n",
       "                                                    max_leaf_nodes=None,\n",
       "                                                    min_impurity_decrease=0.0,\n",
       "                                                    min_impurity_split=None,\n",
       "                                                    min_samples_leaf=1,\n",
       "                                                    min_samples_split=2,\n",
       "                                                    min_weight_fraction_leaf=0.0,\n",
       "                                                    n_estimators=10,\n",
       "                                                    n_jobs=None,\n",
       "                                                    oob_score=...\n",
       "                                                    warm_start=False),\n",
       "                   iid='warn', n_iter=10, n_jobs=-1,\n",
       "                   param_distributions={'criterion': ['gini', 'entropy'],\n",
       "                                        'max_depth': range(2, 20),\n",
       "                                        'max_features': ['auto', 'log2'],\n",
       "                                        'min_samples_leaf': range(1, 10),\n",
       "                                        'min_samples_split': range(2, 10),\n",
       "                                        'n_estimators': [90, 100, 115, 130]},\n",
       "                   pre_dispatch='2*n_jobs', random_state=None, refit=True,\n",
       "                   return_train_score=False, scoring=None, verbose=3)"
      ]
     },
     "execution_count": 73,
     "metadata": {},
     "output_type": "execute_result"
    }
   ],
   "source": [
    "grid_param = {\n",
    "    \"n_estimators\" : [90,100,115,130],\n",
    "    'criterion': ['gini', 'entropy'],\n",
    "    'max_depth' : range(2,20,1),\n",
    "    'min_samples_leaf' : range(1,10,1),\n",
    "    'min_samples_split': range(2,10,1),\n",
    "    'max_features' : ['auto','log2']\n",
    "}\n",
    "r_search = RandomizedSearchCV(estimator=rf,param_distributions=grid_param,cv=5,n_jobs =-1,verbose = 3)\n",
    "r_search.fit(train2_x,train2_y)"
   ]
  },
  {
   "cell_type": "code",
   "execution_count": 74,
   "metadata": {},
   "outputs": [
    {
     "data": {
      "text/plain": [
       "{'n_estimators': 115,\n",
       " 'min_samples_split': 7,\n",
       " 'min_samples_leaf': 6,\n",
       " 'max_features': 'auto',\n",
       " 'max_depth': 13,\n",
       " 'criterion': 'entropy'}"
      ]
     },
     "execution_count": 74,
     "metadata": {},
     "output_type": "execute_result"
    }
   ],
   "source": [
    "r_search.best_params_"
   ]
  },
  {
   "cell_type": "code",
   "execution_count": 75,
   "metadata": {},
   "outputs": [
    {
     "data": {
      "text/plain": [
       "0.6248339973439575"
      ]
     },
     "execution_count": 75,
     "metadata": {},
     "output_type": "execute_result"
    }
   ],
   "source": [
    "rf = RandomForestClassifier(criterion='entropy', max_depth=13, max_features='auto', min_samples_leaf=6, min_samples_split=7, n_estimators=115)\n",
    "rf.fit(train2_x,train2_y)\n",
    "rf.score(test2_x,test2_y)"
   ]
  },
  {
   "cell_type": "code",
   "execution_count": 76,
   "metadata": {},
   "outputs": [],
   "source": [
    "import pickle\n",
    "filename1 = 'RF_model.pickle'\n",
    "pickle.dump(rf, open(filename1, 'wb'))\n",
    "filename2 = 'count_enc.pickle'\n",
    "pickle.dump(c_enc, open(filename2, 'wb'))"
   ]
  },
  {
   "cell_type": "code",
   "execution_count": 77,
   "metadata": {},
   "outputs": [
    {
     "data": {
      "text/plain": [
       "0.7560836772449124"
      ]
     },
     "execution_count": 77,
     "metadata": {},
     "output_type": "execute_result"
    }
   ],
   "source": [
    "rf.score(train2_x,train2_y)"
   ]
  },
  {
   "cell_type": "code",
   "execution_count": 122,
   "metadata": {},
   "outputs": [],
   "source": [
    "enc=['increment_code', 'opening_name']\n",
    "e=c_enc.transform(df[enc])"
   ]
  },
  {
   "cell_type": "code",
   "execution_count": 87,
   "metadata": {},
   "outputs": [],
   "source": [
    "df=pd.DataFrame(np.array([['10+0','French Defense']]),columns=['increment_code', 'opening_name'])"
   ]
  },
  {
   "cell_type": "code",
   "execution_count": 125,
   "metadata": {},
   "outputs": [],
   "source": [
    "e1=e.to_numpy()"
   ]
  },
  {
   "cell_type": "code",
   "execution_count": 101,
   "metadata": {},
   "outputs": [
    {
     "data": {
      "text/plain": [
       "array([1400, 1500])"
      ]
     },
     "execution_count": 101,
     "metadata": {},
     "output_type": "execute_result"
    }
   ],
   "source": [
    "x1=np.array([1400,1500])\n",
    "x1"
   ]
  },
  {
   "cell_type": "code",
   "execution_count": 126,
   "metadata": {},
   "outputs": [],
   "source": [
    "e1=e1.flatten()"
   ]
  },
  {
   "cell_type": "code",
   "execution_count": 127,
   "metadata": {},
   "outputs": [
    {
     "data": {
      "text/plain": [
       "array([5425,  997], dtype=int64)"
      ]
     },
     "execution_count": 127,
     "metadata": {},
     "output_type": "execute_result"
    }
   ],
   "source": [
    "e1"
   ]
  },
  {
   "cell_type": "code",
   "execution_count": 114,
   "metadata": {},
   "outputs": [],
   "source": [
    "c23=np.concatenate([np.array([1400,1500]),e1])"
   ]
  },
  {
   "cell_type": "code",
   "execution_count": 115,
   "metadata": {},
   "outputs": [
    {
     "data": {
      "text/plain": [
       "(4,)"
      ]
     },
     "execution_count": 115,
     "metadata": {},
     "output_type": "execute_result"
    }
   ],
   "source": [
    "c23.shape"
   ]
  },
  {
   "cell_type": "code",
   "execution_count": 116,
   "metadata": {},
   "outputs": [],
   "source": [
    "c24=rf.predict_proba([c23])"
   ]
  },
  {
   "cell_type": "code",
   "execution_count": 117,
   "metadata": {},
   "outputs": [
    {
     "data": {
      "text/plain": [
       "array([[0.76784587, 0.00495024, 0.22720389]])"
      ]
     },
     "execution_count": 117,
     "metadata": {},
     "output_type": "execute_result"
    }
   ],
   "source": [
    "c24"
   ]
  },
  {
   "cell_type": "code",
   "execution_count": 128,
   "metadata": {},
   "outputs": [
    {
     "data": {
      "text/plain": [
       "0.22720388527897775"
      ]
     },
     "execution_count": 128,
     "metadata": {},
     "output_type": "execute_result"
    }
   ],
   "source": [
    "c24[0][2]"
   ]
  },
  {
   "cell_type": "code",
   "execution_count": 121,
   "metadata": {},
   "outputs": [
    {
     "data": {
      "text/html": [
       "<div>\n",
       "<style scoped>\n",
       "    .dataframe tbody tr th:only-of-type {\n",
       "        vertical-align: middle;\n",
       "    }\n",
       "\n",
       "    .dataframe tbody tr th {\n",
       "        vertical-align: top;\n",
       "    }\n",
       "\n",
       "    .dataframe thead th {\n",
       "        text-align: right;\n",
       "    }\n",
       "</style>\n",
       "<table border=\"1\" class=\"dataframe\">\n",
       "  <thead>\n",
       "    <tr style=\"text-align: right;\">\n",
       "      <th></th>\n",
       "      <th>winner</th>\n",
       "      <th>increment_code</th>\n",
       "      <th>white_rating</th>\n",
       "      <th>black_rating</th>\n",
       "      <th>opening_name</th>\n",
       "    </tr>\n",
       "  </thead>\n",
       "  <tbody>\n",
       "    <tr>\n",
       "      <td>0</td>\n",
       "      <td>1</td>\n",
       "      <td>20+0</td>\n",
       "      <td>1439</td>\n",
       "      <td>1454</td>\n",
       "      <td>Queen's Pawn Game</td>\n",
       "    </tr>\n",
       "    <tr>\n",
       "      <td>1</td>\n",
       "      <td>0</td>\n",
       "      <td>10+0</td>\n",
       "      <td>1250</td>\n",
       "      <td>1002</td>\n",
       "      <td>Sicilian Defense</td>\n",
       "    </tr>\n",
       "    <tr>\n",
       "      <td>2</td>\n",
       "      <td>-1</td>\n",
       "      <td>15+0</td>\n",
       "      <td>1439</td>\n",
       "      <td>1392</td>\n",
       "      <td>Italian Game</td>\n",
       "    </tr>\n",
       "    <tr>\n",
       "      <td>3</td>\n",
       "      <td>1</td>\n",
       "      <td>10+0</td>\n",
       "      <td>1381</td>\n",
       "      <td>1209</td>\n",
       "      <td>Scandinavian Defense</td>\n",
       "    </tr>\n",
       "    <tr>\n",
       "      <td>4</td>\n",
       "      <td>-1</td>\n",
       "      <td>8+0</td>\n",
       "      <td>1381</td>\n",
       "      <td>1607</td>\n",
       "      <td>French Defense</td>\n",
       "    </tr>\n",
       "    <tr>\n",
       "      <td>...</td>\n",
       "      <td>...</td>\n",
       "      <td>...</td>\n",
       "      <td>...</td>\n",
       "      <td>...</td>\n",
       "      <td>...</td>\n",
       "    </tr>\n",
       "    <tr>\n",
       "      <td>10034</td>\n",
       "      <td>1</td>\n",
       "      <td>10+0</td>\n",
       "      <td>1328</td>\n",
       "      <td>1252</td>\n",
       "      <td>French Defense</td>\n",
       "    </tr>\n",
       "    <tr>\n",
       "      <td>10035</td>\n",
       "      <td>1</td>\n",
       "      <td>10+0</td>\n",
       "      <td>1243</td>\n",
       "      <td>1142</td>\n",
       "      <td>English Opening</td>\n",
       "    </tr>\n",
       "    <tr>\n",
       "      <td>10036</td>\n",
       "      <td>-1</td>\n",
       "      <td>10+10</td>\n",
       "      <td>1237</td>\n",
       "      <td>1231</td>\n",
       "      <td>French Defense</td>\n",
       "    </tr>\n",
       "    <tr>\n",
       "      <td>10037</td>\n",
       "      <td>1</td>\n",
       "      <td>10+0</td>\n",
       "      <td>1219</td>\n",
       "      <td>1286</td>\n",
       "      <td>Queen's Pawn Game</td>\n",
       "    </tr>\n",
       "    <tr>\n",
       "      <td>10038</td>\n",
       "      <td>-1</td>\n",
       "      <td>10+0</td>\n",
       "      <td>1235</td>\n",
       "      <td>1339</td>\n",
       "      <td>Queen's Pawn Game</td>\n",
       "    </tr>\n",
       "  </tbody>\n",
       "</table>\n",
       "<p>10039 rows × 5 columns</p>\n",
       "</div>"
      ],
      "text/plain": [
       "       winner increment_code  white_rating  black_rating          opening_name\n",
       "0           1           20+0          1439          1454     Queen's Pawn Game\n",
       "1           0           10+0          1250          1002      Sicilian Defense\n",
       "2          -1           15+0          1439          1392          Italian Game\n",
       "3           1           10+0          1381          1209  Scandinavian Defense\n",
       "4          -1            8+0          1381          1607        French Defense\n",
       "...       ...            ...           ...           ...                   ...\n",
       "10034       1           10+0          1328          1252        French Defense\n",
       "10035       1           10+0          1243          1142       English Opening\n",
       "10036      -1          10+10          1237          1231        French Defense\n",
       "10037       1           10+0          1219          1286     Queen's Pawn Game\n",
       "10038      -1           10+0          1235          1339     Queen's Pawn Game\n",
       "\n",
       "[10039 rows x 5 columns]"
      ]
     },
     "execution_count": 121,
     "metadata": {},
     "output_type": "execute_result"
    }
   ],
   "source": [
    "df1"
   ]
  },
  {
   "cell_type": "code",
   "execution_count": null,
   "metadata": {},
   "outputs": [],
   "source": [
    "df1['opening_name'].value_"
   ]
  }
 ],
 "metadata": {
  "kernelspec": {
   "display_name": "Python 3",
   "language": "python",
   "name": "python3"
  },
  "language_info": {
   "codemirror_mode": {
    "name": "ipython",
    "version": 3
   },
   "file_extension": ".py",
   "mimetype": "text/x-python",
   "name": "python",
   "nbconvert_exporter": "python",
   "pygments_lexer": "ipython3",
   "version": "3.7.4"
  }
 },
 "nbformat": 4,
 "nbformat_minor": 2
}
